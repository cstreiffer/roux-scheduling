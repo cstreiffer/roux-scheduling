{
 "cells": [
  {
   "cell_type": "code",
   "execution_count": 1,
   "metadata": {},
   "outputs": [],
   "source": [
    "import numpy as np\n",
    "import pandas as pd\n",
    "import cvxpy as cp\n",
    "import warnings\n",
    "warnings.filterwarnings('ignore')"
   ]
  },
  {
   "cell_type": "code",
   "execution_count": 2,
   "metadata": {},
   "outputs": [],
   "source": [
    "# Load the data \n",
    "rest_df = pd.read_csv('data/test/restaurants.csv')\n",
    "locs_df = pd.read_csv('data/test/locations.csv')"
   ]
  },
  {
   "cell_type": "code",
   "execution_count": 15,
   "metadata": {},
   "outputs": [
    {
     "data": {
      "text/html": [
       "<div>\n",
       "<style scoped>\n",
       "    .dataframe tbody tr th:only-of-type {\n",
       "        vertical-align: middle;\n",
       "    }\n",
       "\n",
       "    .dataframe tbody tr th {\n",
       "        vertical-align: top;\n",
       "    }\n",
       "\n",
       "    .dataframe thead th {\n",
       "        text-align: right;\n",
       "    }\n",
       "</style>\n",
       "<table border=\"1\" class=\"dataframe\">\n",
       "  <thead>\n",
       "    <tr style=\"text-align: right;\">\n",
       "      <th></th>\n",
       "      <th>Name</th>\n",
       "      <th>Maps Link</th>\n",
       "      <th>Closed</th>\n",
       "      <th>Max Delivery Distance (miles)</th>\n",
       "      <th>Max Deliveries/week</th>\n",
       "      <th>Max Deliveries/day</th>\n",
       "    </tr>\n",
       "  </thead>\n",
       "  <tbody>\n",
       "    <tr>\n",
       "      <th>0</th>\n",
       "      <td>Cafe Ynez</td>\n",
       "      <td>https://g.page/cafeynez?share</td>\n",
       "      <td>M</td>\n",
       "      <td>5</td>\n",
       "      <td>4</td>\n",
       "      <td>2</td>\n",
       "    </tr>\n",
       "    <tr>\n",
       "      <th>1</th>\n",
       "      <td>Rex 1516</td>\n",
       "      <td>https://goo.gl/maps/rUymnTPQYhuNyH5V6</td>\n",
       "      <td>M, T</td>\n",
       "      <td>10</td>\n",
       "      <td>3</td>\n",
       "      <td>2</td>\n",
       "    </tr>\n",
       "    <tr>\n",
       "      <th>2</th>\n",
       "      <td>El Merkury</td>\n",
       "      <td>https://goo.gl/maps/tejVM4WbUxguxpfe9</td>\n",
       "      <td>S, Su</td>\n",
       "      <td>2</td>\n",
       "      <td>3</td>\n",
       "      <td>2</td>\n",
       "    </tr>\n",
       "    <tr>\n",
       "      <th>3</th>\n",
       "      <td>On Point</td>\n",
       "      <td>https://goo.gl/maps/CNyUQfXe59PdPmVv6</td>\n",
       "      <td>F</td>\n",
       "      <td>5</td>\n",
       "      <td>4</td>\n",
       "      <td>2</td>\n",
       "    </tr>\n",
       "    <tr>\n",
       "      <th>4</th>\n",
       "      <td>Baology</td>\n",
       "      <td>https://g.page/baology?share</td>\n",
       "      <td>None</td>\n",
       "      <td>5</td>\n",
       "      <td>5</td>\n",
       "      <td>1</td>\n",
       "    </tr>\n",
       "    <tr>\n",
       "      <th>5</th>\n",
       "      <td>Sidecar</td>\n",
       "      <td>https://goo.gl/maps/cnKkYkWhnVcgRSAK8</td>\n",
       "      <td>None</td>\n",
       "      <td>5</td>\n",
       "      <td>5</td>\n",
       "      <td>1</td>\n",
       "    </tr>\n",
       "    <tr>\n",
       "      <th>6</th>\n",
       "      <td>Double Knot</td>\n",
       "      <td>https://goo.gl/maps/ptfobLMFXftCsZ9w5</td>\n",
       "      <td>None</td>\n",
       "      <td>10</td>\n",
       "      <td>5</td>\n",
       "      <td>2</td>\n",
       "    </tr>\n",
       "    <tr>\n",
       "      <th>7</th>\n",
       "      <td>Destination Dogs</td>\n",
       "      <td>https://goo.gl/maps/zf6RYMmB9rJnrK2E9</td>\n",
       "      <td>Th</td>\n",
       "      <td>10</td>\n",
       "      <td>4</td>\n",
       "      <td>3</td>\n",
       "    </tr>\n",
       "    <tr>\n",
       "      <th>8</th>\n",
       "      <td>Erawan</td>\n",
       "      <td>https://goo.gl/maps/8f4YEWcWUazPLLXLA</td>\n",
       "      <td>M</td>\n",
       "      <td>5</td>\n",
       "      <td>3</td>\n",
       "      <td>2</td>\n",
       "    </tr>\n",
       "    <tr>\n",
       "      <th>9</th>\n",
       "      <td>Sabrina's Cafe</td>\n",
       "      <td>https://goo.gl/maps/TEY74TYC7Ja1wvX27</td>\n",
       "      <td>W</td>\n",
       "      <td>2</td>\n",
       "      <td>3</td>\n",
       "      <td>1</td>\n",
       "    </tr>\n",
       "  </tbody>\n",
       "</table>\n",
       "</div>"
      ],
      "text/plain": [
       "               Name                              Maps Link Closed  \\\n",
       "0         Cafe Ynez          https://g.page/cafeynez?share     M    \n",
       "1          Rex 1516  https://goo.gl/maps/rUymnTPQYhuNyH5V6   M, T   \n",
       "2        El Merkury  https://goo.gl/maps/tejVM4WbUxguxpfe9  S, Su   \n",
       "3          On Point  https://goo.gl/maps/CNyUQfXe59PdPmVv6      F   \n",
       "4           Baology           https://g.page/baology?share   None   \n",
       "5           Sidecar  https://goo.gl/maps/cnKkYkWhnVcgRSAK8   None   \n",
       "6       Double Knot  https://goo.gl/maps/ptfobLMFXftCsZ9w5   None   \n",
       "7  Destination Dogs  https://goo.gl/maps/zf6RYMmB9rJnrK2E9     Th   \n",
       "8            Erawan  https://goo.gl/maps/8f4YEWcWUazPLLXLA      M   \n",
       "9    Sabrina's Cafe  https://goo.gl/maps/TEY74TYC7Ja1wvX27      W   \n",
       "\n",
       "   Max Delivery Distance (miles)  Max Deliveries/week  Max Deliveries/day  \n",
       "0                              5                    4                   2  \n",
       "1                             10                    3                   2  \n",
       "2                              2                    3                   2  \n",
       "3                              5                    4                   2  \n",
       "4                              5                    5                   1  \n",
       "5                              5                    5                   1  \n",
       "6                             10                    5                   2  \n",
       "7                             10                    4                   3  \n",
       "8                              5                    3                   2  \n",
       "9                              2                    3                   1  "
      ]
     },
     "execution_count": 15,
     "metadata": {},
     "output_type": "execute_result"
    }
   ],
   "source": [
    "# Display the restaurant data\n",
    "rest_df"
   ]
  },
  {
   "cell_type": "code",
   "execution_count": 17,
   "metadata": {},
   "outputs": [
    {
     "data": {
      "text/html": [
       "<div>\n",
       "<style scoped>\n",
       "    .dataframe tbody tr th:only-of-type {\n",
       "        vertical-align: middle;\n",
       "    }\n",
       "\n",
       "    .dataframe tbody tr th {\n",
       "        vertical-align: top;\n",
       "    }\n",
       "\n",
       "    .dataframe thead th {\n",
       "        text-align: right;\n",
       "    }\n",
       "</style>\n",
       "<table border=\"1\" class=\"dataframe\">\n",
       "  <thead>\n",
       "    <tr style=\"text-align: right;\">\n",
       "      <th></th>\n",
       "      <th>Name</th>\n",
       "      <th>Maps Link</th>\n",
       "    </tr>\n",
       "  </thead>\n",
       "  <tbody>\n",
       "    <tr>\n",
       "      <th>0</th>\n",
       "      <td>HUP</td>\n",
       "      <td>https://goo.gl/maps/UNaP3MudA9wwRYFB6</td>\n",
       "    </tr>\n",
       "    <tr>\n",
       "      <th>1</th>\n",
       "      <td>Presby</td>\n",
       "      <td>https://goo.gl/maps/T4yAjq7itGHbCvXN7</td>\n",
       "    </tr>\n",
       "    <tr>\n",
       "      <th>2</th>\n",
       "      <td>CHOP</td>\n",
       "      <td>https://goo.gl/maps/HE7PAY6fPfNRhe1LA</td>\n",
       "    </tr>\n",
       "    <tr>\n",
       "      <th>3</th>\n",
       "      <td>Jefferson</td>\n",
       "      <td>https://goo.gl/maps/rDBFBTSbyiqftmvG7</td>\n",
       "    </tr>\n",
       "  </tbody>\n",
       "</table>\n",
       "</div>"
      ],
      "text/plain": [
       "        Name                              Maps Link\n",
       "0        HUP  https://goo.gl/maps/UNaP3MudA9wwRYFB6\n",
       "1     Presby  https://goo.gl/maps/T4yAjq7itGHbCvXN7\n",
       "2       CHOP  https://goo.gl/maps/HE7PAY6fPfNRhe1LA\n",
       "3  Jefferson  https://goo.gl/maps/rDBFBTSbyiqftmvG7"
      ]
     },
     "execution_count": 17,
     "metadata": {},
     "output_type": "execute_result"
    }
   ],
   "source": [
    "# Display the location data\n",
    "locs_df"
   ]
  },
  {
   "cell_type": "code",
   "execution_count": 3,
   "metadata": {},
   "outputs": [],
   "source": [
    "# Filter out the restaurants based on day of the week, number of deliveries per week\n",
    "DAY = 'M'\n",
    "def filter_day(row):\n",
    "    closed_days = row['Closed'].replace(' ', '').split(',')\n",
    "    if not (DAY in closed_days):\n",
    "        return True\n",
    "    else:\n",
    "        return False\n",
    "rest_df_f = rest_df[rest_df.apply(filter_day, axis=1)]\n",
    "\n",
    "# TO DO: Filter based on number of deliveries already completed for the week using db"
   ]
  },
  {
   "cell_type": "code",
   "execution_count": 18,
   "metadata": {},
   "outputs": [
    {
     "data": {
      "text/html": [
       "<div>\n",
       "<style scoped>\n",
       "    .dataframe tbody tr th:only-of-type {\n",
       "        vertical-align: middle;\n",
       "    }\n",
       "\n",
       "    .dataframe tbody tr th {\n",
       "        vertical-align: top;\n",
       "    }\n",
       "\n",
       "    .dataframe thead th {\n",
       "        text-align: right;\n",
       "    }\n",
       "</style>\n",
       "<table border=\"1\" class=\"dataframe\">\n",
       "  <thead>\n",
       "    <tr style=\"text-align: right;\">\n",
       "      <th></th>\n",
       "      <th>Name</th>\n",
       "      <th>Maps Link</th>\n",
       "      <th>Closed</th>\n",
       "      <th>Max Delivery Distance (miles)</th>\n",
       "      <th>Max Deliveries/week</th>\n",
       "      <th>Max Deliveries/day</th>\n",
       "    </tr>\n",
       "  </thead>\n",
       "  <tbody>\n",
       "    <tr>\n",
       "      <th>2</th>\n",
       "      <td>El Merkury</td>\n",
       "      <td>https://goo.gl/maps/tejVM4WbUxguxpfe9</td>\n",
       "      <td>S, Su</td>\n",
       "      <td>2</td>\n",
       "      <td>3</td>\n",
       "      <td>2</td>\n",
       "    </tr>\n",
       "    <tr>\n",
       "      <th>3</th>\n",
       "      <td>On Point</td>\n",
       "      <td>https://goo.gl/maps/CNyUQfXe59PdPmVv6</td>\n",
       "      <td>F</td>\n",
       "      <td>5</td>\n",
       "      <td>4</td>\n",
       "      <td>2</td>\n",
       "    </tr>\n",
       "    <tr>\n",
       "      <th>4</th>\n",
       "      <td>Baology</td>\n",
       "      <td>https://g.page/baology?share</td>\n",
       "      <td>None</td>\n",
       "      <td>5</td>\n",
       "      <td>5</td>\n",
       "      <td>1</td>\n",
       "    </tr>\n",
       "    <tr>\n",
       "      <th>5</th>\n",
       "      <td>Sidecar</td>\n",
       "      <td>https://goo.gl/maps/cnKkYkWhnVcgRSAK8</td>\n",
       "      <td>None</td>\n",
       "      <td>5</td>\n",
       "      <td>5</td>\n",
       "      <td>1</td>\n",
       "    </tr>\n",
       "    <tr>\n",
       "      <th>6</th>\n",
       "      <td>Double Knot</td>\n",
       "      <td>https://goo.gl/maps/ptfobLMFXftCsZ9w5</td>\n",
       "      <td>None</td>\n",
       "      <td>10</td>\n",
       "      <td>5</td>\n",
       "      <td>2</td>\n",
       "    </tr>\n",
       "    <tr>\n",
       "      <th>7</th>\n",
       "      <td>Destination Dogs</td>\n",
       "      <td>https://goo.gl/maps/zf6RYMmB9rJnrK2E9</td>\n",
       "      <td>Th</td>\n",
       "      <td>10</td>\n",
       "      <td>4</td>\n",
       "      <td>3</td>\n",
       "    </tr>\n",
       "    <tr>\n",
       "      <th>9</th>\n",
       "      <td>Sabrina's Cafe</td>\n",
       "      <td>https://goo.gl/maps/TEY74TYC7Ja1wvX27</td>\n",
       "      <td>W</td>\n",
       "      <td>2</td>\n",
       "      <td>3</td>\n",
       "      <td>1</td>\n",
       "    </tr>\n",
       "  </tbody>\n",
       "</table>\n",
       "</div>"
      ],
      "text/plain": [
       "               Name                              Maps Link Closed  \\\n",
       "2        El Merkury  https://goo.gl/maps/tejVM4WbUxguxpfe9  S, Su   \n",
       "3          On Point  https://goo.gl/maps/CNyUQfXe59PdPmVv6      F   \n",
       "4           Baology           https://g.page/baology?share   None   \n",
       "5           Sidecar  https://goo.gl/maps/cnKkYkWhnVcgRSAK8   None   \n",
       "6       Double Knot  https://goo.gl/maps/ptfobLMFXftCsZ9w5   None   \n",
       "7  Destination Dogs  https://goo.gl/maps/zf6RYMmB9rJnrK2E9     Th   \n",
       "9    Sabrina's Cafe  https://goo.gl/maps/TEY74TYC7Ja1wvX27      W   \n",
       "\n",
       "   Max Delivery Distance (miles)  Max Deliveries/week  Max Deliveries/day  \n",
       "2                              2                    3                   2  \n",
       "3                              5                    4                   2  \n",
       "4                              5                    5                   1  \n",
       "5                              5                    5                   1  \n",
       "6                             10                    5                   2  \n",
       "7                             10                    4                   3  \n",
       "9                              2                    3                   1  "
      ]
     },
     "execution_count": 18,
     "metadata": {},
     "output_type": "execute_result"
    }
   ],
   "source": [
    "rest_df_f"
   ]
  },
  {
   "cell_type": "code",
   "execution_count": 4,
   "metadata": {},
   "outputs": [],
   "source": [
    "# Grab the constraints\n",
    "dist_constraint = rest_df_f['Max Delivery Distance (miles)'].values\n",
    "slot_constraint = rest_df_f['Max Deliveries/day'].values"
   ]
  },
  {
   "cell_type": "code",
   "execution_count": 5,
   "metadata": {},
   "outputs": [],
   "source": [
    "# Generate the delivery distance matrix\n",
    "distance_mat = np.random.rand(len(locs_df), len(rest_df_f))*dist_constraint"
   ]
  },
  {
   "cell_type": "code",
   "execution_count": 6,
   "metadata": {},
   "outputs": [],
   "source": [
    "# Generate the revenue estimate matrix\n",
    "revenue_mat = np.random.rand(len(locs_df), len(rest_df_f))*50.0"
   ]
  },
  {
   "cell_type": "code",
   "execution_count": 7,
   "metadata": {},
   "outputs": [],
   "source": [
    "# Scale the revenue estimate matrix by: dilution factor, preference factor\n",
    "dilution_mat = np.random.rand(len(locs_df), len(rest_df_f)) # Between 0 and 1 based on # of deliveries to location\n",
    "preference_mat = np.random.rand(len(locs_df), len(rest_df_f))+1 # Between 1 and 2 \n",
    "revenue_mat_s = revenue_mat * dilution_mat * preference_mat # Element wise operation"
   ]
  },
  {
   "cell_type": "code",
   "execution_count": 8,
   "metadata": {},
   "outputs": [],
   "source": [
    "# Create the decision matrix\n",
    "selections = cp.Variable((revenue_mat_s.shape[1], revenue_mat_s.shape[0]), boolean=True)"
   ]
  },
  {
   "cell_type": "code",
   "execution_count": 9,
   "metadata": {},
   "outputs": [],
   "source": [
    "# Create the distance constraints\n",
    "dis_constraint = [distance_mat[i, :]@selections[:, i] <= dist_constraint for i in range(len(locs_df))] # Distnace\n",
    "# Create the column constraint\n",
    "col_constraint = [cp.sum(selections, axis=1) <= slot_constraint] # Number of deliveries per day\n",
    "# Create the row constraint\n",
    "row_constraint = [cp.sum(selections, axis=0) <= 1] # Each slot has at most 1 scheduled restaurant\n",
    "# Create the total constraint\n",
    "tot_constraint = [cp.sum(selections) <= min(revenue_mat_s.shape)]"
   ]
  },
  {
   "cell_type": "code",
   "execution_count": 10,
   "metadata": {},
   "outputs": [],
   "source": [
    "# Concatenate together\n",
    "constraints =  dis_constraint + col_constraint + row_constraint + tot_constraint"
   ]
  },
  {
   "cell_type": "code",
   "execution_count": 11,
   "metadata": {},
   "outputs": [],
   "source": [
    "# Create the objective\n",
    "objective = cp.Maximize(\n",
    "    cp.sum(\n",
    "        [revenue_mat_s[i, :]@selections[:, i] for i in range(len(locs_df))]\n",
    "    )\n",
    ")"
   ]
  },
  {
   "cell_type": "code",
   "execution_count": 12,
   "metadata": {},
   "outputs": [],
   "source": [
    "# Solve it\n",
    "knapsack_problem = cp.Problem(objective, constraints)\n",
    "result = knapsack_problem.solve()"
   ]
  },
  {
   "cell_type": "code",
   "execution_count": 13,
   "metadata": {},
   "outputs": [],
   "source": [
    "# Recover the schedule \n",
    "schedule = []\n",
    "rest_names = rest_df_f['Name'].values\n",
    "locs_names = locs_df['Name'].values\n",
    "for idx, x in np.ndenumerate(selections.value):\n",
    "    if x >= 1.0:\n",
    "        schedule.append((locs_names[idx[1]], rest_names[idx[0]]))"
   ]
  },
  {
   "cell_type": "code",
   "execution_count": 14,
   "metadata": {},
   "outputs": [
    {
     "name": "stdout",
     "output_type": "stream",
     "text": [
      "Day of Week: M, Estimated Revenue: $155.52\n",
      "------------------------------------------\n",
      "Loc:        HUP, Rest: El Merkury\n",
      "Loc:  Jefferson, Rest: Sidecar\n",
      "Loc:       CHOP, Rest: Destination Dogs\n",
      "Loc:     Presby, Rest: Sabrina's Cafe\n"
     ]
    }
   ],
   "source": [
    "# Display the results\n",
    "print(\"Day of Week: %s, Estimated Revenue: $%0.2f\" % (DAY, result))\n",
    "print(\"------------------------------------------\")\n",
    "for s in schedule:\n",
    "    print(\"Loc: %10s, Rest: %s\" % s)"
   ]
  }
 ],
 "metadata": {
  "kernelspec": {
   "display_name": "Python 3",
   "language": "python",
   "name": "python3"
  },
  "language_info": {
   "codemirror_mode": {
    "name": "ipython",
    "version": 3
   },
   "file_extension": ".py",
   "mimetype": "text/x-python",
   "name": "python",
   "nbconvert_exporter": "python",
   "pygments_lexer": "ipython3",
   "version": "3.6.5"
  }
 },
 "nbformat": 4,
 "nbformat_minor": 4
}
