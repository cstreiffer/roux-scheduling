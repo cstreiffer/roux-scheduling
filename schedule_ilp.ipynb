{
 "cells": [
  {
   "cell_type": "code",
   "execution_count": 1,
   "metadata": {},
   "outputs": [],
   "source": [
    "import numpy as np\n",
    "import pandas as pd\n",
    "import cvxpy as cp\n",
    "import warnings\n",
    "warnings.filterwarnings('ignore')"
   ]
  },
  {
   "cell_type": "code",
   "execution_count": 2,
   "metadata": {},
   "outputs": [],
   "source": [
    "# Load the data \n",
    "rest_df = pd.read_csv('data/test/restaurants.csv')\n",
    "locs_df = pd.read_csv('data/test/locations.csv')"
   ]
  },
  {
   "cell_type": "code",
   "execution_count": 87,
   "metadata": {},
   "outputs": [],
   "source": [
    "# Filter out the restaurants based on day of the week, number of deliveries per week\n",
    "DAY = 'M'\n",
    "def filter_day(row):\n",
    "    closed_days = row['Closed'].replace(' ', '').split(',')\n",
    "    if not (DAY in closed_days):\n",
    "        return True\n",
    "    else:\n",
    "        return False\n",
    "rest_df_f = rest_df[rest_df.apply(filter_day, axis=1)]\n",
    "\n",
    "# TO DO: Filter based on number of deliveries already completed for the week using db"
   ]
  },
  {
   "cell_type": "code",
   "execution_count": 88,
   "metadata": {},
   "outputs": [],
   "source": [
    "# Grab the constraints\n",
    "dist_constraint = rest_df_f['Max Delivery Distance (miles)'].values\n",
    "slot_constraint = rest_df_f['Max Deliveries/day'].values"
   ]
  },
  {
   "cell_type": "code",
   "execution_count": 89,
   "metadata": {},
   "outputs": [],
   "source": [
    "# Generate the delivery distance matrix\n",
    "distance_mat = np.random.rand(len(locs_df), len(rest_df_f))*dist_constraint"
   ]
  },
  {
   "cell_type": "code",
   "execution_count": 90,
   "metadata": {},
   "outputs": [],
   "source": [
    "# Generate the revenue estimate matrix\n",
    "revenue_mat = np.random.rand(len(locs_df), len(rest_df_f))*50.0"
   ]
  },
  {
   "cell_type": "code",
   "execution_count": 91,
   "metadata": {},
   "outputs": [],
   "source": [
    "# Scale the revenue estimate matrix by: dilution factor, preference factor\n",
    "dilution_mat = np.random.rand(len(locs_df), len(rest_df_f)) # Between 0 and 1 based on # of deliveries to location\n",
    "preference_mat = np.random.rand(len(locs_df), len(rest_df_f))+1 # Between 1 and 2 \n",
    "revenue_mat_s = revenue_mat * dilution_mat * preference_mat # Element wise operation"
   ]
  },
  {
   "cell_type": "code",
   "execution_count": 92,
   "metadata": {},
   "outputs": [],
   "source": [
    "# Create the decision matrix\n",
    "selections = cp.Variable((revenue_mat_s.shape[1], revenue_mat_s.shape[0]), boolean=True)"
   ]
  },
  {
   "cell_type": "code",
   "execution_count": 93,
   "metadata": {},
   "outputs": [],
   "source": [
    "# Create the distance constraints\n",
    "dis_constraint = [distance_mat[i, :]@selections[:, i] <= dist_constraint for i in range(len(locs_df))] # Distnace\n",
    "# Create the column constraint\n",
    "col_constraint = [cp.sum(selections, axis=1) <= slot_constraint] # Number of deliveries per day\n",
    "# Create the row constraint\n",
    "row_constraint = [cp.sum(selections, axis=0) <= 1] # Each slot has at most 1 scheduled restaurant\n",
    "# Create the total constraint\n",
    "tot_constraint = [cp.sum(selections) == min(revenue_mat_s.shape)]"
   ]
  },
  {
   "cell_type": "code",
   "execution_count": 94,
   "metadata": {},
   "outputs": [],
   "source": [
    "# Concatenate together\n",
    "constraints =  dis_constraint + col_constraint + row_constraint + tot_constraint"
   ]
  },
  {
   "cell_type": "code",
   "execution_count": 95,
   "metadata": {},
   "outputs": [],
   "source": [
    "# Create the objective\n",
    "objective = cp.Maximize(\n",
    "    cp.sum(\n",
    "        [revenue_mat_s[i, :]@selections[:, i] for i in range(len(locs_df))]\n",
    "    )\n",
    ")"
   ]
  },
  {
   "cell_type": "code",
   "execution_count": 96,
   "metadata": {},
   "outputs": [],
   "source": [
    "# Solve it\n",
    "knapsack_problem = cp.Problem(objective, constraints)\n",
    "result = knapsack_problem.solve()"
   ]
  },
  {
   "cell_type": "code",
   "execution_count": 97,
   "metadata": {},
   "outputs": [],
   "source": [
    "# Recover the schedule \n",
    "schedule = []\n",
    "rest_names = rest_df_f['Name'].values\n",
    "locs_names = locs_df['Name'].values\n",
    "for idx, x in np.ndenumerate(selections.value):\n",
    "    if x >= 1.0:\n",
    "        schedule.append((locs_names[idx[1]], rest_names[idx[0]]))"
   ]
  },
  {
   "cell_type": "code",
   "execution_count": 98,
   "metadata": {},
   "outputs": [
    {
     "name": "stdout",
     "output_type": "stream",
     "text": [
      "Day of Week: M, Estimated Revenue: $117.67\n",
      "------------------------------------------\n",
      "Loc:       CHOP, Rest: El Merkury\n",
      "Loc:  Jefferson, Rest: Sidecar\n",
      "Loc:        HUP, Rest: Destination Dogs\n",
      "Loc:     Presby, Rest: Sabrina's Cafe\n"
     ]
    }
   ],
   "source": [
    "# Display the results\n",
    "print(\"Day of Week: %s, Estimated Revenue: $%0.2f\" % (DAY, result))\n",
    "print(\"------------------------------------------\")\n",
    "for s in schedule:\n",
    "    print(\"Loc: %10s, Rest: %s\" % s)"
   ]
  }
 ],
 "metadata": {
  "kernelspec": {
   "display_name": "Python 3",
   "language": "python",
   "name": "python3"
  },
  "language_info": {
   "codemirror_mode": {
    "name": "ipython",
    "version": 3
   },
   "file_extension": ".py",
   "mimetype": "text/x-python",
   "name": "python",
   "nbconvert_exporter": "python",
   "pygments_lexer": "ipython3",
   "version": "3.6.5"
  }
 },
 "nbformat": 4,
 "nbformat_minor": 4
}
